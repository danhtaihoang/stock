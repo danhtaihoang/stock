{
 "cells": [
  {
   "cell_type": "code",
   "execution_count": 1,
   "metadata": {},
   "outputs": [],
   "source": [
    "import numpy as np\n",
    "import matplotlib.pyplot as plt \n",
    "%matplotlib inline"
   ]
  },
  {
   "cell_type": "code",
   "execution_count": 2,
   "metadata": {},
   "outputs": [],
   "source": [
    "nh = np.loadtxt('number_hidden_nhmax6.dat')"
   ]
  },
  {
   "cell_type": "code",
   "execution_count": 3,
   "metadata": {},
   "outputs": [],
   "source": [
    "nh1 = nh[:,1] # cost\n",
    "nh2 = nh[:,2] # AIC\n",
    "nh3 = nh[:,3] # BIC"
   ]
  },
  {
   "cell_type": "code",
   "execution_count": 4,
   "metadata": {},
   "outputs": [
    {
     "data": {
      "text/plain": [
       "array([4., 4., 4., ..., 4., 4., 5.])"
      ]
     },
     "execution_count": 4,
     "metadata": {},
     "output_type": "execute_result"
    }
   ],
   "source": [
    "nh1"
   ]
  },
  {
   "cell_type": "code",
   "execution_count": 5,
   "metadata": {},
   "outputs": [
    {
     "data": {
      "text/plain": [
       "array([3., 3., 3., ..., 3., 6., 6.])"
      ]
     },
     "execution_count": 5,
     "metadata": {},
     "output_type": "execute_result"
    }
   ],
   "source": [
    "nh2"
   ]
  },
  {
   "cell_type": "code",
   "execution_count": 6,
   "metadata": {},
   "outputs": [
    {
     "data": {
      "text/plain": [
       "array([1., 1., 1., ..., 2., 2., 2.])"
      ]
     },
     "execution_count": 6,
     "metadata": {},
     "output_type": "execute_result"
    }
   ],
   "source": [
    "nh3"
   ]
  },
  {
   "cell_type": "code",
   "execution_count": 7,
   "metadata": {
    "scrolled": true
   },
   "outputs": [
    {
     "name": "stderr",
     "output_type": "stream",
     "text": [
      "/home/tai/anaconda2/lib/python2.7/site-packages/matplotlib/axes/_axes.py:6571: UserWarning: The 'normed' kwarg is deprecated, and has been replaced by the 'density' kwarg.\n",
      "  warnings.warn(\"The 'normed' kwarg is deprecated, and has been \"\n"
     ]
    },
    {
     "data": {
      "image/png": "[encoded data removed]",
      "text/plain": [
       "<Figure size 792x230.4 with 3 Axes>"
      ]
     },
     "metadata": {},
     "output_type": "display_data"
    }
   ],
   "source": [
    "bins = np.linspace(0.5,9.5,9, endpoint=False)\n",
    "#print(bins)\n",
    "\n",
    "plt.figure(figsize=(11,3.2))\n",
    "\n",
    "plt.subplot2grid((1,3),(0,0))\n",
    "plt.title('Discrepancy')\n",
    "plt.hist(nh1,bins,histtype='bar',rwidth=0.8,normed=True)\n",
    "plt.xticks(np.arange(1,9,step=1.0))\n",
    "plt.xlabel('nh')\n",
    "plt.ylabel('histogram')\n",
    "\n",
    "plt.subplot2grid((1,3),(0,1))\n",
    "plt.title('AIC')\n",
    "plt.hist(nh2,bins,histtype='bar',rwidth=0.8,normed=True)\n",
    "plt.xticks(np.arange(1,9,step=1.0))\n",
    "plt.xlabel('nh')\n",
    "plt.ylabel('histogram')\n",
    "\n",
    "plt.subplot2grid((1,3),(0,2))\n",
    "plt.title('BIC')\n",
    "plt.hist(nh3,bins,histtype='bar',rwidth=0.8,normed=True)\n",
    "plt.xticks(np.arange(1,9,step=1.0))\n",
    "plt.xlabel('nh')\n",
    "plt.ylabel('histogram')\n",
    "\n",
    "plt.tight_layout(h_pad=1.5, w_pad=1.5)\n",
    "plt.savefig('nh_histo_cost_AIC_BIC_nhmax6.pdf', format='pdf', dpi=100)"
   ]
  },
  {
   "cell_type": "code",
   "execution_count": null,
   "metadata": {},
   "outputs": [],
   "source": []
  }
 ],
 "metadata": {
  "kernelspec": {
   "display_name": "Python 2",
   "language": "python",
   "name": "python2"
  },
  "language_info": {
   "codemirror_mode": {
    "name": "ipython",
    "version": 2
   },
   "file_extension": ".py",
   "mimetype": "text/x-python",
   "name": "python",
   "nbconvert_exporter": "python",
   "pygments_lexer": "ipython2",
   "version": "2.7.15"
  }
 },
 "nbformat": 4,
 "nbformat_minor": 2
}
